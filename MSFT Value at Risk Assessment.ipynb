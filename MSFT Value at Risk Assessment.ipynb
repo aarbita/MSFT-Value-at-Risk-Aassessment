{
 "cells": [
  {
   "cell_type": "markdown",
   "metadata": {
    "id": "DhABxXGGG41q"
   },
   "source": [
    "# Value at Risk Assessment Model"
   ]
  },
  {
   "cell_type": "markdown",
   "metadata": {
    "id": "2RPdfXEEG41t"
   },
   "source": [
    "### Import Packages"
   ]
  },
  {
   "cell_type": "code",
   "execution_count": 8,
   "metadata": {
    "id": "vfRHja5xG41u"
   },
   "outputs": [],
   "source": [
    "# Import packages\n",
    "import numpy as np\n",
    "import pandas as pd\n",
    "import matplotlib.pyplot as plt\n",
    "import yfinance as yf"
   ]
  },
  {
   "cell_type": "markdown",
   "metadata": {
    "id": "d5W6RwdIG41v"
   },
   "source": [
    "### Distributions - Set Up Stock Parameters"
   ]
  },
  {
   "cell_type": "code",
   "execution_count": 9,
   "metadata": {
    "id": "S4lUCx5nG41v"
   },
   "outputs": [
    {
     "name": "stdout",
     "output_type": "stream",
     "text": [
      "yfinance.Ticker object <MSFT>\n",
      "---------\n",
      "390.489990234375\n"
     ]
    }
   ],
   "source": [
    "# Number of shares\n",
    "shares_MSFT = 1000\n",
    "\n",
    "# Live stock price\n",
    "price = yf.Ticker('MSFT')\n",
    "price_MSFT = price.history().tail(1)['Close'].iloc[0]\n",
    "\n",
    "print(price)\n",
    "print('---------')\n",
    "print(price_MSFT)"
   ]
  },
  {
   "cell_type": "markdown",
   "metadata": {
    "id": "TnYmv1i5G41v"
   },
   "source": [
    "30-day Historical volatility source: https://www.alphaquery.com/stock/MSFT/volatility-option-statistics/30-day/historical-volatility"
   ]
  },
  {
   "cell_type": "code",
   "execution_count": 11,
   "metadata": {
    "id": "76xj8cmqG41v"
   },
   "outputs": [],
   "source": [
    "# Investment value\n",
    "value_MSFT = price_MSFT * shares_MSFT\n",
    "\n",
    "# Risk free rate (4-week treasury bill rate)\n",
    "rfr_MSFT = 0.02\n",
    "\n",
    "# Volatility (30-day volatility at that time)\n",
    "vol_MSFT = 0.2116"
   ]
  },
  {
   "cell_type": "markdown",
   "metadata": {
    "id": "0RRGdvW5G41w"
   },
   "source": [
    "### Simulations - Calculate Investment Returns"
   ]
  },
  {
   "cell_type": "code",
   "execution_count": 12,
   "metadata": {
    "id": "EhL5ICKPG41w"
   },
   "outputs": [],
   "source": [
    "# Number of simulations\n",
    "simulations = 5000\n",
    "\n",
    "# Investment time in a year\n",
    "t_MSFT = 21/252"
   ]
  },
  {
   "cell_type": "code",
   "execution_count": 13,
   "metadata": {
    "id": "Ta7hVoQ7G41w"
   },
   "outputs": [
    {
     "data": {
      "text/plain": [
       "(array([  2.,   0.,   3.,   1.,   1.,   0.,   2.,   1.,   4.,   4.,   4.,\n",
       "          1.,   1.,   5.,   6.,   5.,   9.,  12.,  15.,  14.,  22.,  18.,\n",
       "         23.,  28.,  33.,  32.,  38.,  41.,  50.,  49.,  58.,  86.,  62.,\n",
       "         69.,  87.,  89., 103.,  91., 108.,  98., 125., 126., 140., 157.,\n",
       "        154., 144., 137., 140., 154., 132., 147., 132., 138., 124., 131.,\n",
       "        111., 112., 125.,  93., 128.,  92.,  96.,  90.,  79.,  86.,  70.,\n",
       "         70.,  64.,  37.,  61.,  44.,  46.,  36.,  35.,  25.,  18.,  17.,\n",
       "         18.,  14.,  12.,   8.,  11.,   9.,   7.,   3.,   7.,   3.,   5.,\n",
       "          4.,   3.,   1.,   1.,   0.,   0.,   0.,   1.,   0.,   1.,   0.,\n",
       "          1.]),\n",
       " array([-3.52949919e+00, -3.45748111e+00, -3.38546303e+00, -3.31344495e+00,\n",
       "        -3.24142687e+00, -3.16940879e+00, -3.09739071e+00, -3.02537263e+00,\n",
       "        -2.95335455e+00, -2.88133647e+00, -2.80931840e+00, -2.73730032e+00,\n",
       "        -2.66528224e+00, -2.59326416e+00, -2.52124608e+00, -2.44922800e+00,\n",
       "        -2.37720992e+00, -2.30519184e+00, -2.23317376e+00, -2.16115568e+00,\n",
       "        -2.08913760e+00, -2.01711952e+00, -1.94510144e+00, -1.87308336e+00,\n",
       "        -1.80106528e+00, -1.72904720e+00, -1.65702912e+00, -1.58501104e+00,\n",
       "        -1.51299296e+00, -1.44097488e+00, -1.36895680e+00, -1.29693872e+00,\n",
       "        -1.22492064e+00, -1.15290256e+00, -1.08088448e+00, -1.00886640e+00,\n",
       "        -9.36848323e-01, -8.64830243e-01, -7.92812164e-01, -7.20794084e-01,\n",
       "        -6.48776004e-01, -5.76757925e-01, -5.04739845e-01, -4.32721765e-01,\n",
       "        -3.60703685e-01, -2.88685606e-01, -2.16667526e-01, -1.44649446e-01,\n",
       "        -7.26313667e-02, -6.13287013e-04,  7.14047927e-02,  1.43422872e-01,\n",
       "         2.15440952e-01,  2.87459032e-01,  3.59477111e-01,  4.31495191e-01,\n",
       "         5.03513271e-01,  5.75531351e-01,  6.47549430e-01,  7.19567510e-01,\n",
       "         7.91585590e-01,  8.63603669e-01,  9.35621749e-01,  1.00763983e+00,\n",
       "         1.07965791e+00,  1.15167599e+00,  1.22369407e+00,  1.29571215e+00,\n",
       "         1.36773023e+00,  1.43974831e+00,  1.51176639e+00,  1.58378447e+00,\n",
       "         1.65580255e+00,  1.72782063e+00,  1.79983871e+00,  1.87185679e+00,\n",
       "         1.94387486e+00,  2.01589294e+00,  2.08791102e+00,  2.15992910e+00,\n",
       "         2.23194718e+00,  2.30396526e+00,  2.37598334e+00,  2.44800142e+00,\n",
       "         2.52001950e+00,  2.59203758e+00,  2.66405566e+00,  2.73607374e+00,\n",
       "         2.80809182e+00,  2.88010990e+00,  2.95212798e+00,  3.02414606e+00,\n",
       "         3.09616414e+00,  3.16818222e+00,  3.24020030e+00,  3.31221838e+00,\n",
       "         3.38423646e+00,  3.45625454e+00,  3.52827262e+00,  3.60029070e+00,\n",
       "         3.67230878e+00]),\n",
       " <BarContainer object of 100 artists>)"
      ]
     },
     "execution_count": 13,
     "metadata": {},
     "output_type": "execute_result"
    },
    {
     "data": {
      "image/png": "[encoded data removed]",
      "text/plain": [
       "<Figure size 640x480 with 1 Axes>"
      ]
     },
     "metadata": {},
     "output_type": "display_data"
    }
   ],
   "source": [
    "# Explain np.random.standard_normal\n",
    "sample = np.random.standard_normal(5000)\n",
    "plt.hist(sample,bins=100)"
   ]
  },
  {
   "cell_type": "code",
   "execution_count": 14,
   "metadata": {},
   "outputs": [
    {
     "name": "stdout",
     "output_type": "stream",
     "text": [
      "-0.005833682064632542\n",
      "1.0027840163115247\n"
     ]
    }
   ],
   "source": [
    "print(np.mean(sample))\n",
    "print(np.std(sample))"
   ]
  },
  {
   "cell_type": "code",
   "execution_count": 18,
   "metadata": {
    "id": "0_f89juWG41x"
   },
   "outputs": [],
   "source": [
    "# Create a function to calculate the returns of the investment\n",
    "def VaR(pv, rfr, vol, t, simulations):\n",
    "    end_value = pv * np.exp((rfr - .5 * vol ** 2) * t + np.random.standard_normal(\n",
    "        simulations) * vol * np.sqrt(t))\n",
    "    returns = end_value - pv\n",
    "    return returns\n",
    "\n",
    "# Apply the VaR function to simulate the returns\n",
    "returns_MSFT = VaR(value_MSFT, rfr_MSFT, vol_MSFT, t_MSFT, simulations)"
   ]
  },
  {
   "cell_type": "markdown",
   "metadata": {
    "id": "v8wA9yxHG41x"
   },
   "source": [
    "### Quantifications - Identify VaR at 90%, 95%, and 99% Confidence Level"
   ]
  },
  {
   "cell_type": "code",
   "execution_count": 19,
   "metadata": {
    "id": "6-QygAyMG41x"
   },
   "outputs": [
    {
     "name": "stdout",
     "output_type": "stream",
     "text": [
      "VaR at 90% confidence level: $3,455\n"
     ]
    }
   ],
   "source": [
    "# Explain string formatting\n",
    "# Print: VaR at x% confidence level: $y.\n",
    "\n",
    "x = 0.9\n",
    "y = 3455.248\n",
    "print(\"VaR at {:.0%} confidence level: ${:,.0f}\".format(x,y))"
   ]
  },
  {
   "cell_type": "code",
   "execution_count": 21,
   "metadata": {
    "id": "KxCc8t0yG41x"
   },
   "outputs": [
    {
     "name": "stdout",
     "output_type": "stream",
     "text": [
      "VaR at 90% confidence level: $-29,212\n",
      "VaR at 95% confidence level: $-37,236\n",
      "VaR at 99% confidence level: $-52,188\n"
     ]
    },
    {
     "data": {
      "image/png": "[encoded data removed]",
      "text/plain": [
       "<Figure size 640x480 with 1 Axes>"
      ]
     },
     "metadata": {},
     "output_type": "display_data"
    }
   ],
   "source": [
    "# Plot the returns\n",
    "plt.hist(returns_MSFT, bins=100);\n",
    "\n",
    "# Show VaR at 90%, 95%, and 99% confidence level\n",
    "percentiles = [10,5,1]\n",
    "\n",
    "for i in percentiles:\n",
    "    confidence = (100-i)/100\n",
    "    value = np.percentile(returns_MSFT, i)\n",
    "    print(\"VaR at {:.0%} confidence level: ${:,.0f}\".format(confidence, value))\n",
    "    plt.axvline(value, color = 'red', linestyle='dashed', linewidth=1)"
   ]
  },
  {
   "cell_type": "code",
   "execution_count": null,
   "metadata": {},
   "outputs": [],
   "source": []
  }
 ],
 "metadata": {
  "colab": {
   "name": "03-Value at Risk Assessment-Blank.ipynb",
   "provenance": []
  },
  "kernelspec": {
   "display_name": "Python 3 (ipykernel)",
   "language": "python",
   "name": "python3"
  },
  "language_info": {
   "codemirror_mode": {
    "name": "ipython",
    "version": 3
   },
   "file_extension": ".py",
   "mimetype": "text/x-python",
   "name": "python",
   "nbconvert_exporter": "python",
   "pygments_lexer": "ipython3",
   "version": "3.13.2"
  }
 },
 "nbformat": 4,
 "nbformat_minor": 4
}
